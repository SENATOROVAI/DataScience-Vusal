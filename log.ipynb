{
 "cells": [
  {
   "cell_type": "code",
   "execution_count": null,
   "metadata": {
    "vscode": {
     "languageId": "plaintext"
    }
   },
   "outputs": [],
   "source": [
    "\"\"\"Логирование уроков.\"\"\""
   ]
  },
  {
   "cell_type": "markdown",
   "metadata": {},
   "source": [
    "23/10/24\n",
    "\n",
    "1) setup github, python\n",
    "2) last test\n",
    "git add . \n",
    "git commit -m \"test\"\n",
    "git push\n",
    "3) thursday\n"
   ]
  },
  {
   "cell_type": "markdown",
   "metadata": {},
   "source": [
    "16/10/2024\n",
    "\n",
    "\n",
    "1.Знакомство\n"
   ]
  },
  {
   "cell_type": "markdown",
   "metadata": {},
   "source": [
    "06/11/2024\n",
    "\n",
    "1.Работа на Гите\n",
    "2. Работа со средой\n",
    "3. Обновили скачали линтеры\n",
    "4. Повторили алгоритм отправки домашки"
   ]
  },
  {
   "cell_type": "markdown",
   "metadata": {},
   "source": [
    "09/11\n",
    "### education git command\n",
    "### cd /d \"C:\\Users\\vu.aghayev\\Documents\\github\\DataScience-Vusal\"\n",
    "### code .\n",
    "### git pull \n",
    "### git add . \n",
    "### git commit -m \"hw\"\n",
    "### git push\n"
   ]
  },
  {
   "cell_type": "markdown",
   "metadata": {},
   "source": [
    "\n"
   ]
  }
 ],
 "metadata": {
  "language_info": {
   "name": "python"
  }
 },
 "nbformat": 4,
 "nbformat_minor": 2
}
