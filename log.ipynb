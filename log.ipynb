{
 "cells": [
  {
   "cell_type": "code",
   "execution_count": null,
   "metadata": {
    "vscode": {
     "languageId": "plaintext"
    }
   },
   "outputs": [],
   "source": [
    "\"\"\"Логирование уроков.\"\"\""
   ]
  },
  {
   "cell_type": "markdown",
   "metadata": {},
   "source": [
    "23/10/24\n",
    "\n",
    "1) setup github, python"
   ]
  },
  {
   "cell_type": "markdown",
   "metadata": {},
   "source": [
    "16/10/2024\n",
    "\n",
    "\n",
    "1.Знакомство\n"
   ]
  }
 ],
 "metadata": {
  "language_info": {
   "name": "python"
  }
 },
 "nbformat": 4,
 "nbformat_minor": 2
}
